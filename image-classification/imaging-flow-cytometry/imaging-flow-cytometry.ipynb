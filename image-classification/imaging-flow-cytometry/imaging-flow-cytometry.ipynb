{
 "cells": [
  {
   "cell_type": "code",
   "execution_count": null,
   "metadata": {
    "collapsed": true
   },
   "outputs": [],
   "source": [
    "%matplotlib inline"
   ]
  },
  {
   "cell_type": "code",
   "execution_count": null,
   "metadata": {
    "collapsed": false
   },
   "outputs": [],
   "source": [
    "import ifc_utils\n",
    "import keras\n",
    "import numpy\n",
    "import matplotlib.pyplot\n",
    "import os.path\n",
    "import pandas"
   ]
  },
  {
   "cell_type": "code",
   "execution_count": null,
   "metadata": {
    "collapsed": true
   },
   "outputs": [],
   "source": [
    "directory = \"data/processed\"\n",
    "\n",
    "data = {\n",
    "    \"abnormal\": \"data/raw/abnormal\",\n",
    "    \"normal\": \"data/raw/normal\"\n",
    "}\n",
    "\n",
    "channels = [0, 2, 5, 6, 11]\n",
    "\n",
    "split = 0.8"
   ]
  },
  {
   "cell_type": "code",
   "execution_count": null,
   "metadata": {
    "collapsed": false
   },
   "outputs": [],
   "source": [
    "ifc_utils.parse(directory, data, channels)\n",
    "\n",
    "ifc_utils.split(directory, data.keys(), split)\n",
    "\n",
    "class_weights = ifc_utils.class_weights(directory, data)"
   ]
  },
  {
   "cell_type": "code",
   "execution_count": null,
   "metadata": {
    "collapsed": false
   },
   "outputs": [],
   "source": [
    "shape = (32, 32, 1)\n",
    "\n",
    "x = keras.layers.Input(shape)"
   ]
  },
  {
   "cell_type": "code",
   "execution_count": null,
   "metadata": {
    "collapsed": true
   },
   "outputs": [],
   "source": [
    "classes = 2"
   ]
  },
  {
   "cell_type": "markdown",
   "metadata": {},
   "source": [
    "The classifier architecture is adapted from the LeNet-5 convolutional neural network by Yann LeCunn, et al."
   ]
  },
  {
   "cell_type": "code",
   "execution_count": null,
   "metadata": {
    "collapsed": false
   },
   "outputs": [],
   "source": [
    "options = {\"activation\": \"relu\", \"kernel_size\": (3, 3)}\n",
    "\n",
    "y = keras.layers.Conv2D(32, **options)(x)\n",
    "y = keras.layers.Conv2D(64, **options)(y)\n",
    "\n",
    "y = keras.layers.MaxPooling2D()(y)\n",
    "\n",
    "y = keras.layers.Dropout(0.5)(y)\n",
    "\n",
    "y = keras.layers.Flatten()(y)\n",
    "\n",
    "y = keras.layers.Dense(128, activation=\"relu\")(y)\n",
    "\n",
    "y = keras.layers.Dropout(0.5)(y)\n",
    "\n",
    "y = keras.layers.Dense(classes)(y)\n",
    "\n",
    "y = keras.layers.Activation(\"softmax\")(y)"
   ]
  },
  {
   "cell_type": "code",
   "execution_count": null,
   "metadata": {
    "collapsed": true
   },
   "outputs": [],
   "source": [
    "model = keras.models.Model(x, y)"
   ]
  },
  {
   "cell_type": "code",
   "execution_count": null,
   "metadata": {
    "collapsed": true
   },
   "outputs": [],
   "source": [
    "loss = keras.losses.categorical_crossentropy\n",
    "\n",
    "optimizer = keras.optimizers.Adam(0.0001)\n",
    "\n",
    "model.compile(\n",
    "    loss=loss, \n",
    "    metrics=[\n",
    "        \"accuracy\"\n",
    "    ],\n",
    "    optimizer=optimizer\n",
    ")"
   ]
  },
  {
   "cell_type": "code",
   "execution_count": null,
   "metadata": {
    "collapsed": false
   },
   "outputs": [],
   "source": [
    "training_x = numpy.load(os.path.join(directory, \"training_x.npy\"))\n",
    "\n",
    "training_y = numpy.load(os.path.join(directory, \"training_y.npy\"))"
   ]
  },
  {
   "cell_type": "code",
   "execution_count": null,
   "metadata": {
    "collapsed": false
   },
   "outputs": [],
   "source": [
    "csv_logger = keras.callbacks.CSVLogger(\"training.csv\")\n",
    "\n",
    "early_stopping = keras.callbacks.EarlyStopping(patience=32)\n",
    "\n",
    "model_checkpoint = keras.callbacks.ModelCheckpoint(\"checkpoint.hdf5\")\n",
    "\n",
    "reduce_learning_rate_on_plateau = keras.callbacks.ReduceLROnPlateau()"
   ]
  },
  {
   "cell_type": "code",
   "execution_count": null,
   "metadata": {
    "collapsed": false
   },
   "outputs": [],
   "source": [
    "options = {\n",
    "    \"batch_size\": 4096,\n",
    "    \"class_weight\": class_weights,\n",
    "    \"callbacks\": [\n",
    "        csv_logger,\n",
    "        early_stopping,\n",
    "        model_checkpoint,\n",
    "        reduce_learning_rate_on_plateau\n",
    "    ],\n",
    "    \"epochs\": 256,\n",
    "    \"validation_split\": 0.25,\n",
    "    \"verbose\": 0,\n",
    "    \"x\": training_x,\n",
    "    \"y\": training_y    \n",
    "}\n",
    "\n",
    "%time model.fit(**options)"
   ]
  },
  {
   "cell_type": "code",
   "execution_count": null,
   "metadata": {
    "collapsed": false
   },
   "outputs": [],
   "source": [
    "observations = pandas.read_csv(\"training.csv\")\n",
    "\n",
    "_, (a, b) = matplotlib.pyplot.subplots(nrows=1, ncols=2, figsize=(12, 4))\n",
    "\n",
    "a.plot(observations[\"acc\"], \"b\")\n",
    "a.plot(observations[\"val_acc\"], \"r\")\n",
    "\n",
    "b.plot(observations[\"loss\"], \"b\")\n",
    "b.plot(observations[\"val_loss\"], \"r\")"
   ]
  },
  {
   "cell_type": "code",
   "execution_count": null,
   "metadata": {
    "collapsed": true
   },
   "outputs": [],
   "source": [
    "model.load_weights(\"./checkpoint.hdf5\")"
   ]
  },
  {
   "cell_type": "code",
   "execution_count": null,
   "metadata": {
    "collapsed": false
   },
   "outputs": [],
   "source": [
    "test_x = numpy.load(os.path.join(directory, \"test_x.npy\"))\n",
    "\n",
    "test_y = numpy.load(os.path.join(directory, \"test_y.npy\"))"
   ]
  },
  {
   "cell_type": "code",
   "execution_count": null,
   "metadata": {
    "collapsed": false
   },
   "outputs": [],
   "source": [
    "model.evaluate(test_x, test_y)"
   ]
  },
  {
   "cell_type": "code",
   "execution_count": null,
   "metadata": {
    "collapsed": true
   },
   "outputs": [],
   "source": []
  }
 ],
 "metadata": {
  "kernelspec": {
   "display_name": "Python 3",
   "language": "python",
   "name": "python3"
  },
  "language_info": {
   "codemirror_mode": {
    "name": "ipython",
    "version": 3
   },
   "file_extension": ".py",
   "mimetype": "text/x-python",
   "name": "python",
   "nbconvert_exporter": "python",
   "pygments_lexer": "ipython3",
   "version": "3.5.2"
  }
 },
 "nbformat": 4,
 "nbformat_minor": 2
}
